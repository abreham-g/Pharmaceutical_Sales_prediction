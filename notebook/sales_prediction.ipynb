{
 "cells": [
  {
   "cell_type": "markdown",
   "metadata": {},
   "source": [
    "## Libraries"
   ]
  },
  {
   "cell_type": "code",
   "execution_count": 19,
   "metadata": {
    "_cell_guid": "b1076dfc-b9ad-4769-8c92-a6c4dae69d19",
    "_uuid": "8f2839f25d086af736a60e9eeb907d3b93b6e0e5"
   },
   "outputs": [],
   "source": [
    "# linear algebra and data processing\n",
    "import numpy as np\n",
    "import pandas as pd \n",
    "\n",
    "import mlflow\n",
    "#data visualisations\n",
    "import seaborn as sns\n",
    "import matplotlib.pyplot as plt\n",
    "\n",
    "# preprocessing\n",
    "from sklearn.impute import SimpleImputer\n",
    "from sklearn.preprocessing import LabelEncoder, OneHotEncoder, StandardScaler, RobustScaler\n",
    "from sklearn.compose import ColumnTransformer\n",
    "from sklearn.pipeline import Pipeline, make_pipeline\n",
    "\n",
    "# statistics\n",
    "from scipy import stats\n",
    "from scipy.stats import skew, norm\n",
    "from scipy.special import boxcox1p\n",
    "from scipy.stats import boxcox_normmax\n",
    "\n",
    "# models + accuracy metrics\n",
    "from sklearn.linear_model import LinearRegression\n",
    "from xgboost import XGBRegressor\n",
    "from sklearn.ensemble import RandomForestRegressor, GradientBoostingRegressor\n",
    "from sklearn.model_selection import KFold, cross_val_score, train_test_split\n",
    "from sklearn.metrics import mean_squared_error, mean_absolute_error\\\n",
    "\n",
    "import sys\n",
    "\n",
    "\n",
    "\n",
    "# saving models\n",
    "import pickle\n",
    "import gzip\n",
    "\n",
    "# ignore warnings\n",
    "import warnings\n",
    "warnings.filterwarnings(action=\"ignore\")\n",
    "\n",
    "# datasets path\n",
    "import os\n",
    "sys.path.append(os.path.abspath(os.path.join('../script')))\n",
    "from config import Config"
   ]
  },
  {
   "cell_type": "markdown",
   "metadata": {},
   "source": [
    "## Data"
   ]
  },
  {
   "cell_type": "code",
   "execution_count": 6,
   "metadata": {
    "_cell_guid": "79c7e3d0-c299-4dcb-8224-4455121ee9b0",
    "_uuid": "d629ff2d2480ee46fbb7e2d37f6b5fab8052498a"
   },
   "outputs": [
    {
     "name": "stdout",
     "output_type": "stream",
     "text": [
      "train set shape: (1017209, 9)\n",
      "test set shape: (41088, 8)\n",
      "store set shape: (1115, 10)\n"
     ]
    }
   ],
   "source": [
    "# data\n",
    "na_value=['',' ','nan','Nan','NaN','na', '<Na>']\n",
    "train_data = pd.read_csv('../Data/train.csv', na_values=na_value)\n",
    "test_data = pd.read_csv('../Data/test.csv', na_values=na_value)\n",
    "store_data = pd.read_csv('../Data/store.csv', na_values=na_value)\n",
    "submission_data = pd.read_csv('../Data/sample_submission.csv', na_values=na_value)\n",
    "\n",
    "print('train set shape:', train_data.shape)\n",
    "print('test set shape:', test_data.shape)\n",
    "print('store set shape:', store_data.shape)"
   ]
  },
  {
   "cell_type": "code",
   "execution_count": 7,
   "metadata": {},
   "outputs": [
    {
     "name": "stdout",
     "output_type": "stream",
     "text": [
      "(1017209, 18)\n",
      "(41088, 17)\n"
     ]
    }
   ],
   "source": [
    "# merge the train/test sets with the stores set\n",
    "full_train = pd.merge(left = train_data, right = store_data, how = 'inner', left_on = 'Store', right_on = 'Store')\n",
    "full_test = pd.merge(left = test_data, right = store_data, how = 'inner', left_on = 'Store', right_on = 'Store')\n",
    "print(full_train.shape)\n",
    "print(full_test.shape)"
   ]
  },
  {
   "cell_type": "code",
   "execution_count": 8,
   "metadata": {},
   "outputs": [
    {
     "name": "stdout",
     "output_type": "stream",
     "text": [
      "<class 'pandas.core.frame.DataFrame'>\n",
      "Int64Index: 1017209 entries, 0 to 1017208\n",
      "Data columns (total 18 columns):\n",
      " #   Column                     Non-Null Count    Dtype  \n",
      "---  ------                     --------------    -----  \n",
      " 0   Store                      1017209 non-null  int64  \n",
      " 1   DayOfWeek                  1017209 non-null  int64  \n",
      " 2   Date                       1017209 non-null  object \n",
      " 3   Sales                      1017209 non-null  int64  \n",
      " 4   Customers                  1017209 non-null  int64  \n",
      " 5   Open                       1017209 non-null  int64  \n",
      " 6   Promo                      1017209 non-null  int64  \n",
      " 7   StateHoliday               1017209 non-null  object \n",
      " 8   SchoolHoliday              1017209 non-null  int64  \n",
      " 9   StoreType                  1017209 non-null  object \n",
      " 10  Assortment                 1017209 non-null  object \n",
      " 11  CompetitionDistance        1014567 non-null  float64\n",
      " 12  CompetitionOpenSinceMonth  693861 non-null   float64\n",
      " 13  CompetitionOpenSinceYear   693861 non-null   float64\n",
      " 14  Promo2                     1017209 non-null  int64  \n",
      " 15  Promo2SinceWeek            509178 non-null   float64\n",
      " 16  Promo2SinceYear            509178 non-null   float64\n",
      " 17  PromoInterval              509178 non-null   object \n",
      "dtypes: float64(5), int64(8), object(5)\n",
      "memory usage: 147.5+ MB\n"
     ]
    }
   ],
   "source": [
    "# quick peak\n",
    "full_train.info()"
   ]
  },
  {
   "cell_type": "code",
   "execution_count": 9,
   "metadata": {},
   "outputs": [
    {
     "name": "stdout",
     "output_type": "stream",
     "text": [
      "<class 'pandas.core.frame.DataFrame'>\n",
      "Int64Index: 41088 entries, 0 to 41087\n",
      "Data columns (total 17 columns):\n",
      " #   Column                     Non-Null Count  Dtype  \n",
      "---  ------                     --------------  -----  \n",
      " 0   Id                         41088 non-null  int64  \n",
      " 1   Store                      41088 non-null  int64  \n",
      " 2   DayOfWeek                  41088 non-null  int64  \n",
      " 3   Date                       41088 non-null  object \n",
      " 4   Open                       41077 non-null  float64\n",
      " 5   Promo                      41088 non-null  int64  \n",
      " 6   StateHoliday               41088 non-null  object \n",
      " 7   SchoolHoliday              41088 non-null  int64  \n",
      " 8   StoreType                  41088 non-null  object \n",
      " 9   Assortment                 41088 non-null  object \n",
      " 10  CompetitionDistance        40992 non-null  float64\n",
      " 11  CompetitionOpenSinceMonth  25872 non-null  float64\n",
      " 12  CompetitionOpenSinceYear   25872 non-null  float64\n",
      " 13  Promo2                     41088 non-null  int64  \n",
      " 14  Promo2SinceWeek            23856 non-null  float64\n",
      " 15  Promo2SinceYear            23856 non-null  float64\n",
      " 16  PromoInterval              23856 non-null  object \n",
      "dtypes: float64(6), int64(6), object(5)\n",
      "memory usage: 5.6+ MB\n"
     ]
    }
   ],
   "source": [
    "full_test.info()"
   ]
  },
  {
   "cell_type": "markdown",
   "metadata": {},
   "source": [
    "## Preprocessing"
   ]
  },
  {
   "cell_type": "code",
   "execution_count": 10,
   "metadata": {},
   "outputs": [],
   "source": [
    "def preprocess_data(full_train, full_test):\n",
    "    \n",
    "    # '''preprocessing'''\n",
    "    global train_features, test_features, train_target, categorical, numerical\n",
    "\n",
    "    # train and target features\n",
    "    train_features = full_train.drop(['Sales', 'Customers'], axis = 1) #drop the target feature + customers (~ will not be used for prediction)\n",
    "    train_target  = full_train[['Sales']]\n",
    "    test_features = full_test.drop(['Id'], axis = 1) #drop id, it's required only during submission\n",
    "\n",
    "    #feature generation + transformations\n",
    "    train_features['Date'] = pd.to_datetime(train_features.Date)\n",
    "    train_features['Month'] = train_features.Date.dt.month.to_list()\n",
    "    train_features['Year'] = train_features.Date.dt.year.to_list()\n",
    "    train_features['Day'] = train_features.Date.dt.day.to_list()\n",
    "    train_features['WeekOfYear'] = train_features.Date.dt.weekofyear.to_list()\n",
    "    train_features['DayOfWeek'] = train_features.Date.dt.dayofweek.to_list()\n",
    "    train_features['weekday'] = 1        # Initialize the column with default value of 1\n",
    "    train_features.loc[train_features['DayOfWeek'] == 5, 'weekday'] = 0\n",
    "    train_features.loc[train_features['DayOfWeek'] == 6, 'weekday'] = 0\n",
    "    # train_features = train_features.drop(['Date'], axis = 1)\n",
    "    train_features = train_features.drop(['Store'], axis = 1)\n",
    "\n",
    "    test_features['Date'] = pd.to_datetime(test_features.Date)\n",
    "    test_features['Month'] = test_features.Date.dt.month.to_list()\n",
    "    test_features['Year'] = test_features.Date.dt.year.to_list()\n",
    "    test_features['Day'] = test_features.Date.dt.day.to_list()\n",
    "    test_features['WeekOfYear'] = test_features.Date.dt.weekofyear.to_list()\n",
    "    test_features['DayOfWeek'] = test_features.Date.dt.dayofweek.to_list()\n",
    "    test_features['weekday'] = 1        # Initialize the column with default value of 1\n",
    "    test_features.loc[test_features['DayOfWeek'] == 5, 'weekday'] = 0\n",
    "    test_features.loc[test_features['DayOfWeek'] == 6, 'weekday'] = 0\n",
    "    # test_features = test_features.drop(['Date'], axis = 1)\n",
    "    test_features = test_features.drop(['Store'], axis = 1)\n",
    "\n",
    "\n",
    "    # numerical and categorical columns (train set)\n",
    "    categorical = []\n",
    "    numerical = []\n",
    "    timestamp = []\n",
    "\n",
    "    for col in train_features.columns:\n",
    "        if train_features[col].dtype == object:\n",
    "            categorical.append(col)\n",
    "        elif train_features[col].dtype in ['int16', 'int32', 'int64', 'float16', 'float32', 'float64']:\n",
    "            numerical.append(col)\n",
    "        else:\n",
    "            timestamp.append(col)\n",
    "\n",
    "    # Keep selected columns only\n",
    "    my_cols = categorical + numerical + timestamp\n",
    "    train_features = train_features[my_cols].copy()\n",
    "    test_features = test_features[my_cols].copy()\n",
    "    features = pd.concat([train_features, test_features]) #merge the features columns for uniform preprocessing\n",
    "\n",
    "    # change dtypes for uniformity in preprocessing\n",
    "    features.CompetitionOpenSinceMonth = features.CompetitionOpenSinceMonth.astype('Int64') \n",
    "    features.CompetitionOpenSinceYear = features.CompetitionOpenSinceYear.astype('Int64')\n",
    "    features.Promo2SinceWeek = features.Promo2SinceWeek.astype('Int64') \n",
    "    features.Promo2SinceYear = features.Promo2SinceYear.astype('Int64')\n",
    "    features[\"StateHoliday\"].loc[features[\"StateHoliday\"] == 0] = \"0\"\n",
    "\n",
    "\n",
    "\n",
    "    # ''' actual preprocessing: the mighty pipeline '''\n",
    "    # numeric\n",
    "    for col in ['CompetitionDistance', 'CompetitionOpenSinceMonth', 'CompetitionOpenSinceYear', 'Promo2SinceWeek', 'Promo2SinceYear']:\n",
    "        features[col] = features[col].fillna((int(features[col].mean()))) \n",
    "    features.PromoInterval = features.PromoInterval.fillna(features.PromoInterval.mode()[0])\n",
    "    features.Open = features.Open.fillna(features.Open.mode()[0])\n",
    "    features = pd.get_dummies(features, columns=['StoreType', 'Assortment', 'PromoInterval', 'StateHoliday'], drop_first=True)\n",
    "    scaler = RobustScaler()\n",
    "    c = ['DayOfWeek', 'Open', 'Promo', 'SchoolHoliday', 'CompetitionDistance', 'CompetitionOpenSinceMonth', 'CompetitionOpenSinceYear',\n",
    "    'Promo2', 'Promo2SinceWeek', 'Promo2SinceYear', 'WeekOfYear', 'Month', 'Year', 'Day', 'WeekOfYear', 'weekday']\n",
    "    features[numerical] = scaler.fit_transform(features[numerical].values)\n",
    "\n",
    "\n",
    "    return features"
   ]
  },
  {
   "cell_type": "code",
   "execution_count": 11,
   "metadata": {},
   "outputs": [
    {
     "data": {
      "text/html": [
       "<div>\n",
       "<style scoped>\n",
       "    .dataframe tbody tr th:only-of-type {\n",
       "        vertical-align: middle;\n",
       "    }\n",
       "\n",
       "    .dataframe tbody tr th {\n",
       "        vertical-align: top;\n",
       "    }\n",
       "\n",
       "    .dataframe thead th {\n",
       "        text-align: right;\n",
       "    }\n",
       "</style>\n",
       "<table border=\"1\" class=\"dataframe\">\n",
       "  <thead>\n",
       "    <tr style=\"text-align: right;\">\n",
       "      <th></th>\n",
       "      <th>DayOfWeek</th>\n",
       "      <th>Open</th>\n",
       "      <th>Promo</th>\n",
       "      <th>SchoolHoliday</th>\n",
       "      <th>CompetitionDistance</th>\n",
       "      <th>CompetitionOpenSinceMonth</th>\n",
       "      <th>CompetitionOpenSinceYear</th>\n",
       "      <th>Promo2</th>\n",
       "      <th>Promo2SinceWeek</th>\n",
       "      <th>Promo2SinceYear</th>\n",
       "      <th>...</th>\n",
       "      <th>StoreType_b</th>\n",
       "      <th>StoreType_c</th>\n",
       "      <th>StoreType_d</th>\n",
       "      <th>Assortment_b</th>\n",
       "      <th>Assortment_c</th>\n",
       "      <th>PromoInterval_Jan,Apr,Jul,Oct</th>\n",
       "      <th>PromoInterval_Mar,Jun,Sept,Dec</th>\n",
       "      <th>StateHoliday_a</th>\n",
       "      <th>StateHoliday_b</th>\n",
       "      <th>StateHoliday_c</th>\n",
       "    </tr>\n",
       "  </thead>\n",
       "  <tbody>\n",
       "    <tr>\n",
       "      <th>0</th>\n",
       "      <td>0.25</td>\n",
       "      <td>0.0</td>\n",
       "      <td>1.0</td>\n",
       "      <td>1.0</td>\n",
       "      <td>-0.172078</td>\n",
       "      <td>0.666667</td>\n",
       "      <td>0.0</td>\n",
       "      <td>-1.0</td>\n",
       "      <td>0.0</td>\n",
       "      <td>0.0</td>\n",
       "      <td>...</td>\n",
       "      <td>0</td>\n",
       "      <td>1</td>\n",
       "      <td>0</td>\n",
       "      <td>0</td>\n",
       "      <td>0</td>\n",
       "      <td>1</td>\n",
       "      <td>0</td>\n",
       "      <td>0</td>\n",
       "      <td>0</td>\n",
       "      <td>0</td>\n",
       "    </tr>\n",
       "    <tr>\n",
       "      <th>1</th>\n",
       "      <td>0.00</td>\n",
       "      <td>0.0</td>\n",
       "      <td>1.0</td>\n",
       "      <td>1.0</td>\n",
       "      <td>-0.172078</td>\n",
       "      <td>0.666667</td>\n",
       "      <td>0.0</td>\n",
       "      <td>-1.0</td>\n",
       "      <td>0.0</td>\n",
       "      <td>0.0</td>\n",
       "      <td>...</td>\n",
       "      <td>0</td>\n",
       "      <td>1</td>\n",
       "      <td>0</td>\n",
       "      <td>0</td>\n",
       "      <td>0</td>\n",
       "      <td>1</td>\n",
       "      <td>0</td>\n",
       "      <td>0</td>\n",
       "      <td>0</td>\n",
       "      <td>0</td>\n",
       "    </tr>\n",
       "    <tr>\n",
       "      <th>2</th>\n",
       "      <td>-0.25</td>\n",
       "      <td>0.0</td>\n",
       "      <td>1.0</td>\n",
       "      <td>1.0</td>\n",
       "      <td>-0.172078</td>\n",
       "      <td>0.666667</td>\n",
       "      <td>0.0</td>\n",
       "      <td>-1.0</td>\n",
       "      <td>0.0</td>\n",
       "      <td>0.0</td>\n",
       "      <td>...</td>\n",
       "      <td>0</td>\n",
       "      <td>1</td>\n",
       "      <td>0</td>\n",
       "      <td>0</td>\n",
       "      <td>0</td>\n",
       "      <td>1</td>\n",
       "      <td>0</td>\n",
       "      <td>0</td>\n",
       "      <td>0</td>\n",
       "      <td>0</td>\n",
       "    </tr>\n",
       "    <tr>\n",
       "      <th>3</th>\n",
       "      <td>-0.50</td>\n",
       "      <td>0.0</td>\n",
       "      <td>1.0</td>\n",
       "      <td>1.0</td>\n",
       "      <td>-0.172078</td>\n",
       "      <td>0.666667</td>\n",
       "      <td>0.0</td>\n",
       "      <td>-1.0</td>\n",
       "      <td>0.0</td>\n",
       "      <td>0.0</td>\n",
       "      <td>...</td>\n",
       "      <td>0</td>\n",
       "      <td>1</td>\n",
       "      <td>0</td>\n",
       "      <td>0</td>\n",
       "      <td>0</td>\n",
       "      <td>1</td>\n",
       "      <td>0</td>\n",
       "      <td>0</td>\n",
       "      <td>0</td>\n",
       "      <td>0</td>\n",
       "    </tr>\n",
       "    <tr>\n",
       "      <th>4</th>\n",
       "      <td>-0.75</td>\n",
       "      <td>0.0</td>\n",
       "      <td>1.0</td>\n",
       "      <td>1.0</td>\n",
       "      <td>-0.172078</td>\n",
       "      <td>0.666667</td>\n",
       "      <td>0.0</td>\n",
       "      <td>-1.0</td>\n",
       "      <td>0.0</td>\n",
       "      <td>0.0</td>\n",
       "      <td>...</td>\n",
       "      <td>0</td>\n",
       "      <td>1</td>\n",
       "      <td>0</td>\n",
       "      <td>0</td>\n",
       "      <td>0</td>\n",
       "      <td>1</td>\n",
       "      <td>0</td>\n",
       "      <td>0</td>\n",
       "      <td>0</td>\n",
       "      <td>0</td>\n",
       "    </tr>\n",
       "  </tbody>\n",
       "</table>\n",
       "<p>5 rows × 25 columns</p>\n",
       "</div>"
      ],
      "text/plain": [
       "   DayOfWeek  Open  Promo  SchoolHoliday  CompetitionDistance  \\\n",
       "0       0.25   0.0    1.0            1.0            -0.172078   \n",
       "1       0.00   0.0    1.0            1.0            -0.172078   \n",
       "2      -0.25   0.0    1.0            1.0            -0.172078   \n",
       "3      -0.50   0.0    1.0            1.0            -0.172078   \n",
       "4      -0.75   0.0    1.0            1.0            -0.172078   \n",
       "\n",
       "   CompetitionOpenSinceMonth  CompetitionOpenSinceYear  Promo2  \\\n",
       "0                   0.666667                       0.0    -1.0   \n",
       "1                   0.666667                       0.0    -1.0   \n",
       "2                   0.666667                       0.0    -1.0   \n",
       "3                   0.666667                       0.0    -1.0   \n",
       "4                   0.666667                       0.0    -1.0   \n",
       "\n",
       "   Promo2SinceWeek  Promo2SinceYear  ...  StoreType_b  StoreType_c  \\\n",
       "0              0.0              0.0  ...            0            1   \n",
       "1              0.0              0.0  ...            0            1   \n",
       "2              0.0              0.0  ...            0            1   \n",
       "3              0.0              0.0  ...            0            1   \n",
       "4              0.0              0.0  ...            0            1   \n",
       "\n",
       "   StoreType_d  Assortment_b  Assortment_c  PromoInterval_Jan,Apr,Jul,Oct  \\\n",
       "0            0             0             0                              1   \n",
       "1            0             0             0                              1   \n",
       "2            0             0             0                              1   \n",
       "3            0             0             0                              1   \n",
       "4            0             0             0                              1   \n",
       "\n",
       "   PromoInterval_Mar,Jun,Sept,Dec  StateHoliday_a  StateHoliday_b  \\\n",
       "0                               0               0               0   \n",
       "1                               0               0               0   \n",
       "2                               0               0               0   \n",
       "3                               0               0               0   \n",
       "4                               0               0               0   \n",
       "\n",
       "   StateHoliday_c  \n",
       "0               0  \n",
       "1               0  \n",
       "2               0  \n",
       "3               0  \n",
       "4               0  \n",
       "\n",
       "[5 rows x 25 columns]"
      ]
     },
     "execution_count": 11,
     "metadata": {},
     "output_type": "execute_result"
    }
   ],
   "source": [
    "features = preprocess_data(full_train, full_test)\n",
    "features = features.drop(['Date'], axis = 1)\n",
    "features.head()"
   ]
  },
  {
   "cell_type": "code",
   "execution_count": 12,
   "metadata": {},
   "outputs": [],
   "source": [
    "# reconstruct train and test sets\n",
    "def reconstruct_sets(features):\n",
    "    global x_train, x_val, y_train, y_val\n",
    "    # global train_set\n",
    "    # original train and test sets\n",
    "    x_train = features.iloc[:len(train_features), :]\n",
    "    x_test = features.iloc[len(train_features):, :]\n",
    "    y_train = train_target\n",
    "    # train_set = pd.concat([x_train, y_train], axis=1)\n",
    "\n",
    "    # updated train and validation sets\n",
    "    x_train, x_val, y_train, y_val = train_test_split(x_train, y_train, test_size = .20, random_state = 0)\n",
    "\n",
    "\n",
    "    return x_train, x_val, y_train, y_val, x_test"
   ]
  },
  {
   "cell_type": "code",
   "execution_count": 13,
   "metadata": {},
   "outputs": [
    {
     "data": {
      "text/plain": [
       "((813767, 25), (203442, 25), (813767,), (203442,), (41088, 25))"
      ]
     },
     "execution_count": 13,
     "metadata": {},
     "output_type": "execute_result"
    }
   ],
   "source": [
    "x_train, x_val, y_train, y_val, x_test = reconstruct_sets(features)\n",
    "# log transformation on target variable\n",
    "y_train = np.log1p(y_train['Sales'])\n",
    "y_val = np.log1p(y_val['Sales'])\n",
    "x_train.shape, x_val.shape, y_train.shape, y_val.shape, x_test.shape"
   ]
  },
  {
   "cell_type": "markdown",
   "metadata": {},
   "source": [
    "## Modelling "
   ]
  },
  {
   "cell_type": "code",
   "execution_count": 15,
   "metadata": {},
   "outputs": [],
   "source": [
    "features.to_csv('../features/my_features.csv')"
   ]
  },
  {
   "cell_type": "code",
   "execution_count": 25,
   "metadata": {},
   "outputs": [
    {
     "name": "stdout",
     "output_type": "stream",
     "text": [
      "INFO: 'Random Forest Regressor' does not exist. Creating a new experiment\n",
      "Mean squared error for RF on validation data = 0.018742081867053756\n",
      "Mean absolute error for RF on validation data = 0.07629952412226534\n"
     ]
    }
   ],
   "source": [
    "# RandiomForestRegressor\n",
    "\n",
    "#fitting\n",
    "clf = RandomForestRegressor(n_estimators = 15)\n",
    "#clf.fit(x_train, y_train)\n",
    "mlflow.set_experiment(\"Random Forest Regressor\")\n",
    "mlflow.sklearn.autolog()\n",
    "mlflow.sklearn.autolog()\n",
    "with mlflow.start_run(run_name=\"RF-baseline\"):\n",
    "    clf.fit(x_train, y_train)\n",
    "\n",
    "# validation\n",
    "y_pred = clf.predict(x_val)\n",
    "mean_squared_error(y_val, y_pred)\n",
    "print(\"Mean squared error for RF on validation data =\", mean_squared_error(y_val, y_pred))\n",
    "print(\"Mean absolute error for RF on validation data =\", mean_absolute_error(y_val, y_pred))"
   ]
  },
  {
   "cell_type": "code",
   "execution_count": 20,
   "metadata": {},
   "outputs": [
    {
     "name": "stdout",
     "output_type": "stream",
     "text": [
      "INFO: 'Linear Regressor' does not exist. Creating a new experiment\n",
      "Mean squared error for sLR on validation data = 0.11848353838195072\n",
      "Mean absolute error for SLR on validation data = 0.2527261289148485\n"
     ]
    }
   ],
   "source": [
    "# LinearRegression\n",
    "\n",
    "#fitting\n",
    "regressor = LinearRegression()\n",
    "mlflow.set_experiment(\"Linear Regressor\")\n",
    "mlflow.sklearn.autolog()\n",
    "mlflow.sklearn.autolog()\n",
    "with mlflow.start_run(run_name=\"lr-baseline\"):\n",
    "    regressor.fit(x_train, y_train)\n",
    "\n",
    "\n",
    "#validation\n",
    "# scores = cross_val_score(estimator = regressor, X = x_train, y = y_train, cv = 5)\n",
    "regressor_pred = regressor.predict(x_val)\n",
    "print(\"Mean squared error for sLR on validation data =\", mean_squared_error(y_val, regressor_pred))\n",
    "print(\"Mean absolute error for SLR on validation data =\", mean_absolute_error(y_val, regressor_pred))"
   ]
  },
  {
   "cell_type": "code",
   "execution_count": 24,
   "metadata": {},
   "outputs": [
    {
     "name": "stdout",
     "output_type": "stream",
     "text": [
      "Mean absolute error for xgb on validation data = 0.12452821718981408\n",
      "Mean squared error for xgb on validation data = 0.03187673969685498\n"
     ]
    }
   ],
   "source": [
    "# ExtremeBooster\n",
    "\n",
    "#fitting\n",
    "xgb = XGBRegressor(random_state = 42)\n",
    "mlflow.set_experiment(\"Extereme Booster\")\n",
    "mlflow.sklearn.autolog()\n",
    "mlflow.sklearn.autolog()\n",
    "with mlflow.start_run(run_name=\"xgb-baseline\"):\n",
    "     xgb.fit(x_train, y_train)\n",
    "#xgb.fit(x_train, y_train)\n",
    "\n",
    "# validation\n",
    "# scores = cross_val_score(estimator = xgb, X = x_train, y = y_train, cv = 5)\n",
    "xgb_pred = xgb.predict(x_val)\n",
    "print(\"Mean absolute error for xgb on validation data =\", mean_absolute_error(y_val, xgb_pred))\n",
    "print(\"Mean squared error for xgb on validation data =\", mean_squared_error(y_val, xgb_pred))"
   ]
  },
  {
   "cell_type": "code",
   "execution_count": 22,
   "metadata": {},
   "outputs": [
    {
     "name": "stdout",
     "output_type": "stream",
     "text": [
      "Mean absolute error for gdb on validation data = 0.2217410065237111\n",
      "Mean squared error for gdb on validation data = 0.0966456895614806\n"
     ]
    }
   ],
   "source": [
    "# GradientBooster\n",
    "\n",
    "#fitting\n",
    "gdb = GradientBoostingRegressor(random_state = 5)\n",
    "mlflow.set_experiment(\"Gradient Booster\")\n",
    "mlflow.sklearn.autolog()\n",
    "mlflow.sklearn.autolog()\n",
    "with mlflow.start_run(run_name=\"gdb-baseline\"):\n",
    "     gdb.fit(x_train, y_train)\n",
    "\n",
    "#gdb = gdb.fit(x_train, y_train)\n",
    "\n",
    "#validation\n",
    "gdb_pred = gdb.predict(x_val)\n",
    "print(\"Mean absolute error for gdb on validation data =\", mean_absolute_error(y_val, gdb_pred))\n",
    "print(\"Mean squared error for gdb on validation data =\", mean_squared_error(y_val, gdb_pred))"
   ]
  },
  {
   "cell_type": "markdown",
   "metadata": {},
   "source": [
    "Random Forest and XGB have a good performance.\n",
    "Going the MSE way: RandomForest is the ideal one."
   ]
  },
  {
   "cell_type": "code",
   "execution_count": 19,
   "metadata": {},
   "outputs": [],
   "source": [
    "# save the model\n",
    "def save_zipped_pickle(obj, filename, protocol=-1):\n",
    "    with gzip.open(filename, 'wb') as f:\n",
    "        pickle.dump(obj, f, protocol)\n",
    "        \n",
    "save_zipped_pickle(clf, 'compressed.pkl') #rf\n",
    "save_zipped_pickle(clf, 'compressed_xgb.pkl') #xgb\n",
    "save_zipped_pickle(clf, 'compressed_gb.pkl') #gb"
   ]
  },
  {
   "cell_type": "markdown",
   "metadata": {},
   "source": [
    "## Predictions"
   ]
  },
  {
   "cell_type": "code",
   "execution_count": 21,
   "metadata": {},
   "outputs": [
    {
     "data": {
      "text/plain": [
       "(41088,)"
      ]
     },
     "execution_count": 21,
     "metadata": {},
     "output_type": "execute_result"
    }
   ],
   "source": [
    "# make predictions using the random forest model\n",
    "final_pred = clf.predict(x_test)\n",
    "final_pred.shape"
   ]
  },
  {
   "cell_type": "code",
   "execution_count": 22,
   "metadata": {},
   "outputs": [],
   "source": [
    "'''reconstruct a df with StoreID, date and Sales columns using the predcitions and the test set then save it as a csv file'''\n",
    "\n",
    "sub = full_test[['Id']]\n",
    "back = np.expm1(final_pred)\n",
    "sub['Sales'] = back\n",
    "sub['Date'] = full_test.Date.to_list()\n",
    "sub['Store'] = full_test.Store.to_list()\n",
    "sub.to_csv('sub_plot.csv', index = False)"
   ]
  },
  {
   "cell_type": "markdown",
   "metadata": {},
   "source": [
    "## Pred Plot"
   ]
  },
  {
   "cell_type": "code",
   "execution_count": 23,
   "metadata": {},
   "outputs": [
    {
     "data": {
      "image/png": "[encoded data removed]",
      "text/plain": [
       "<Figure size 1080x504 with 1 Axes>"
      ]
     },
     "metadata": {
      "needs_background": "light"
     },
     "output_type": "display_data"
    }
   ],
   "source": [
    "time_data = sub[['Date', 'Sales']]\n",
    "time_data['datetime'] = pd.to_datetime(time_data['Date'])\n",
    "time_data = time_data.set_index('datetime')\n",
    "time_data = time_data.drop(['Date'], axis = 1)\n",
    "monthly_time_data = time_data.Sales.resample('D').mean() \n",
    "plt.figure(figsize = (15,7))\n",
    "plt.title('Seasonality plot averaged weekly')\n",
    "plt.ylabel('average predicted sales')\n",
    "monthly_time_data.plot()\n",
    "plt.grid()"
   ]
  },
  {
   "cell_type": "markdown",
   "metadata": {},
   "source": []
  },
  {
   "cell_type": "code",
   "execution_count": null,
   "metadata": {},
   "outputs": [],
   "source": []
  }
 ],
 "metadata": {
  "kernelspec": {
   "display_name": "Python 3",
   "language": "python",
   "name": "python3"
  },
  "language_info": {
   "codemirror_mode": {
    "name": "ipython",
    "version": 3
   },
   "file_extension": ".py",
   "mimetype": "text/x-python",
   "name": "python",
   "nbconvert_exporter": "python",
   "pygments_lexer": "ipython3",
   "version": "3.9.1"
  }
 },
 "nbformat": 4,
 "nbformat_minor": 4
}
